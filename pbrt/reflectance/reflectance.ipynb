{
 "cells": [
  {
   "cell_type": "code",
   "execution_count": 1,
   "outputs": [
    {
     "name": "stdout",
     "output_type": "stream",
     "text": [
      "File number mismatch: 3201 files in the index, 3107 files on disk\n",
      "3107 unique files in the index, 3107 unique files on disk\n",
      "\n",
      "database\\data-nk\\main\\Hg\\Inagaki.yml appears 3 times in the index\n",
      "database\\data-nk\\main\\SiO2\\Malitson.yml appears 3 times in the index\n",
      "database\\data-nk\\organic\\C3H8O3 - glycerol\\Gupta.yml appears 3 times in the index\n",
      "database\\data-nk\\glass\\schott\\N-BK7.yml appears 3 times in the index\n",
      "database\\data-nk\\glass\\schott\\N-BAF10.yml appears 3 times in the index\n",
      "database\\data-nk\\main\\Ag\\Rakic-BB.yml appears 2 times in the index\n",
      "database\\data-nk\\main\\Al\\Rakic-BB.yml appears 2 times in the index\n",
      "database\\data-nk\\main\\Au\\Rakic-BB.yml appears 2 times in the index\n",
      "database\\data-nk\\main\\C\\Phillip.yml appears 2 times in the index\n",
      "database\\data-nk\\main\\C\\Taylor.yml appears 2 times in the index\n",
      "database\\data-nk\\main\\NaCl\\Li.yml appears 2 times in the index\n",
      "database\\data-nk\\main\\Cu\\Rakic-BB.yml appears 2 times in the index\n",
      "database\\data-nk\\main\\Fe\\Johnson.yml appears 2 times in the index\n",
      "database\\data-nk\\main\\Ge\\Aspnes.yml appears 2 times in the index\n",
      "database\\data-nk\\main\\Al2O3\\Malitson-o.yml appears 2 times in the index\n",
      "database\\data-nk\\main\\H2O\\Hale.yml appears 2 times in the index\n",
      "database\\data-nk\\main\\H2O\\Warren-2008.yml appears 2 times in the index\n",
      "database\\data-nk\\main\\D2O\\Sarkar.yml appears 2 times in the index\n",
      "database\\data-nk\\main\\ZnO\\Aguilar.yml appears 2 times in the index\n",
      "database\\data-nk\\other\\mixed crystals\\ZrO2-Y2O3\\Wood.yml appears 2 times in the index\n",
      "database\\data-nk\\main\\Pb\\Golovashkin-293K.yml appears 2 times in the index\n",
      "database\\data-nk\\main\\Pt\\Rakic-BB.yml appears 2 times in the index\n",
      "database\\data-nk\\other\\semiconductor alloys\\AlSb-GaSb\\Ferrini-0.yml appears 2 times in the index\n",
      "database\\data-nk\\main\\Si\\Vuye-20C.yml appears 2 times in the index\n",
      "database\\data-nk\\main\\Ti\\Johnson.yml appears 2 times in the index\n",
      "database\\data-nk\\organic\\C6H6 - benzene\\Moutzouris.yml appears 2 times in the index\n",
      "database\\data-nk\\organic\\C3H6O - acetone\\Rheims.yml appears 2 times in the index\n",
      "database\\data-nk\\organic\\(C5H8O2)n - poly(methyl methacrylate)\\Sultanova.yml appears 2 times in the index\n",
      "database\\data-nk\\organic\\(C6H9NO)n - polyvinylpyrrolidone\\Konig.yml appears 2 times in the index\n",
      "database\\data-nk\\organic\\(C6H10O5)n - cellulose\\Sultanova.yml appears 2 times in the index\n",
      "database\\data-nk\\organic\\(C8H8)n - polystyren\\Sultanova.yml appears 2 times in the index\n",
      "database\\data-nk\\organic\\(C16H14O3)n - polycarbonate\\Sultanova.yml appears 2 times in the index\n",
      "database\\data-nk\\glass\\ohara\\S-BSL7.yml appears 2 times in the index\n",
      "database\\data-nk\\glass\\hikari\\J-BK7A.yml appears 2 times in the index\n",
      "database\\data-nk\\glass\\cdgm\\H-K9L.yml appears 2 times in the index\n",
      "database\\data-nk\\glass\\hoya\\BSC7.yml appears 2 times in the index\n",
      "database\\data-nk\\glass\\sumita\\K-BK7.yml appears 2 times in the index\n",
      "database\\data-nk\\glass\\lzos\\K8.yml appears 2 times in the index\n",
      "database\\data-nk\\glass\\ohara\\S-BAH10.yml appears 2 times in the index\n",
      "database\\data-nk\\glass\\hikari\\J-BAF10.yml appears 2 times in the index\n",
      "database\\data-nk\\glass\\cdgm\\H-ZBAF52.yml appears 2 times in the index\n",
      "database\\data-nk\\glass\\hoya\\BAF10.yml appears 2 times in the index\n",
      "database\\data-nk\\glass\\schott\\N-BAK1.yml appears 2 times in the index\n",
      "database\\data-nk\\glass\\ohara\\S-BAL11.yml appears 2 times in the index\n",
      "database\\data-nk\\glass\\hikari\\J-BAK1.yml appears 2 times in the index\n",
      "database\\data-nk\\glass\\cdgm\\H-BAK8.yml appears 2 times in the index\n",
      "database\\data-nk\\glass\\schott\\N-FK51A.yml appears 2 times in the index\n",
      "database\\data-nk\\glass\\schott\\N-LASF9.yml appears 2 times in the index\n",
      "database\\data-nk\\glass\\schott\\N-SF5.yml appears 2 times in the index\n",
      "database\\data-nk\\glass\\hikari\\J-SF5.yml appears 2 times in the index\n",
      "database\\data-nk\\glass\\cdgm\\ZF2.yml appears 2 times in the index\n",
      "database\\data-nk\\glass\\hoya\\E-FD5.yml appears 2 times in the index\n",
      "database\\data-nk\\glass\\schott\\N-SF10.yml appears 2 times in the index\n",
      "database\\data-nk\\glass\\hikari\\J-SF10.yml appears 2 times in the index\n",
      "database\\data-nk\\glass\\cdgm\\ZF4.yml appears 2 times in the index\n",
      "database\\data-nk\\glass\\hoya\\E-FD10.yml appears 2 times in the index\n",
      "database\\data-nk\\glass\\schott\\N-SF11.yml appears 2 times in the index\n",
      "database\\data-nk\\glass\\hikari\\J-SF11.yml appears 2 times in the index\n",
      "database\\data-nk\\glass\\cdgm\\ZF13.yml appears 2 times in the index\n",
      "database\\data-nk\\glass\\sumita\\K-SFLD11.yml appears 2 times in the index\n",
      "database\\data-nk\\glass\\misc\\soda-lime\\Rubin-clear.yml appears 2 times in the index\n",
      "database\\data-nk\\glass\\misc\\soda-lime\\Rubin-bronze.yml appears 2 times in the index\n",
      "database\\data-nk\\glass\\misc\\soda-lime\\Rubin-grey.yml appears 2 times in the index\n",
      "database\\data-nk\\glass\\misc\\soda-lime\\Rubin-green.yml appears 2 times in the index\n",
      "database\\data-nk\\glass\\hikari\\Q-SK15S.yml appears 2 times in the index\n",
      "database\\data-nk\\glass\\hikari\\Q-SK52S.yml appears 2 times in the index\n",
      "database\\data-nk\\glass\\hikari\\Q-SK55S.yml appears 2 times in the index\n",
      "database\\data-nk\\glass\\hikari\\Q-FK01S.yml appears 2 times in the index\n",
      "database\\data-nk\\glass\\hikari\\Q-FKH2S.yml appears 2 times in the index\n",
      "database\\data-nk\\glass\\hikari\\Q-LAK52S.yml appears 2 times in the index\n",
      "database\\data-nk\\glass\\hikari\\Q-LAK53S.yml appears 2 times in the index\n",
      "database\\data-nk\\glass\\hikari\\Q-PSKH1S.yml appears 2 times in the index\n",
      "database\\data-nk\\glass\\hikari\\Q-PSKH2S.yml appears 2 times in the index\n",
      "database\\data-nk\\glass\\hikari\\Q-PSKH4S.yml appears 2 times in the index\n",
      "database\\data-nk\\glass\\hikari\\Q-SF6S.yml appears 2 times in the index\n",
      "database\\data-nk\\glass\\hikari\\Q-LAF010S.yml appears 2 times in the index\n",
      "database\\data-nk\\glass\\hikari\\Q-LASF03S.yml appears 2 times in the index\n",
      "database\\data-nk\\glass\\hikari\\Q-LASFH11S.yml appears 2 times in the index\n",
      "database\\data-nk\\glass\\hikari\\Q-LASFH12S.yml appears 2 times in the index\n",
      "database\\data-nk\\glass\\hikari\\Q-LASFH58S.yml appears 2 times in the index\n",
      "database\\data-nk\\glass\\hikari\\Q-LASFH59S.yml appears 2 times in the index\n",
      "database\\data-nk\\glass\\cdgm\\H-KF6.yml appears 2 times in the index\n",
      "database\\data-nk\\other\\alloys\\Cu-Zn\\Querry-Cu70Zn30.yml appears 2 times in the index\n",
      "database\\data-nk\\other\\commercial plastics\\NAS-21\\Sultanova.yml appears 2 times in the index\n",
      "database\\data-nk\\other\\commercial plastics\\Optorez1330\\Sultanova.yml appears 2 times in the index\n",
      "database\\data-nk\\other\\commercial plastics\\ZeonexE48R\\Sultanova.yml appears 2 times in the index\n",
      "database\\data-nk\\other\\soots\\acetylene soot\\Dalzell.yml appears 2 times in the index\n",
      "database\\data-nk\\other\\soots\\propane soot\\Dalzell.yml appears 2 times in the index\n",
      "database\\data-nk\\other\\soots\\diesel soot\\Querry-NMSU.yml appears 2 times in the index\n",
      "\n",
      "Files in one set but not the other: \n",
      "\n",
      "All files of the index have their counterpart on disk.\n"
     ]
    }
   ],
   "source": [
    "%run -m check_db database"
   ],
   "metadata": {
    "collapsed": false,
    "ExecuteTime": {
     "end_time": "2023-10-31T18:10:39.477735900Z",
     "start_time": "2023-10-31T18:10:38.306840400Z"
    }
   },
   "id": "f62c1c54be66a7e1"
  },
  {
   "cell_type": "code",
   "execution_count": 2,
   "outputs": [],
   "source": [
    "from ldbb import LDBB\n",
    "from reflectance import *\n",
    "import numpy as np\n",
    "import matplotlib.pyplot as plt"
   ],
   "metadata": {
    "collapsed": false,
    "ExecuteTime": {
     "end_time": "2023-10-31T18:10:40.084260900Z",
     "start_time": "2023-10-31T18:10:39.471229200Z"
    }
   },
   "id": "917084d02cde9204"
  },
  {
   "cell_type": "code",
   "execution_count": 3,
   "outputs": [],
   "source": [
    "wavelength_min = 360  # nm\n",
    "wavelength_max = 830  # nm\n",
    "delta_wavelength = 1  # nm\n",
    "incident_angle = 45   # degree\n",
    "\n",
    "# Available options: 'Ag', 'Au', 'Cu', 'Al', 'Be', 'Cr', 'Ni', 'Pd', 'Pt', 'Ti', 'W'\n",
    "material = 'Au'"
   ],
   "metadata": {
    "collapsed": false,
    "ExecuteTime": {
     "end_time": "2023-10-31T18:10:40.095254500Z",
     "start_time": "2023-10-31T18:10:40.084260900Z"
    }
   },
   "id": "7be0ad344da910b2"
  },
  {
   "cell_type": "code",
   "execution_count": 12,
   "outputs": [
    {
     "data": {
      "text/plain": "[<matplotlib.lines.Line2D at 0x2c37220f010>]"
     },
     "execution_count": 12,
     "metadata": {},
     "output_type": "execute_result"
    },
    {
     "data": {
      "text/plain": "<Figure size 640x480 with 1 Axes>",
      "image/png": "[encoded data removed]"
     },
     "metadata": {},
     "output_type": "display_data"
    }
   ],
   "source": [
    "lambdas = np.arange(wavelength_min, wavelength_max, delta_wavelength)\n",
    "idxAu = np.sqrt(LDBB(material,'LD', lambdas * 1e-9))\n",
    "idxEnv = np.repeat(1, len(idxAu))\n",
    "refl = spectral_reflectance(idxAu, idxEnv, incident_angle)\n",
    "\n",
    "fig, ax = plt.subplots()\n",
    "ax.set_title(f\"Spectral Reflectance of {material} at {incident_angle} degree\")\n",
    "ax.set_xlabel(\"Wavelength (nm)\")\n",
    "ax.set_ylim(0, 1)\n",
    "ax.plot(lambdas, refl)"
   ],
   "metadata": {
    "collapsed": false,
    "ExecuteTime": {
     "end_time": "2023-10-31T18:13:00.300755200Z",
     "start_time": "2023-10-31T18:13:00.138137Z"
    }
   },
   "id": "21ba5431041ef340"
  }
 ],
 "metadata": {
  "kernelspec": {
   "display_name": "Python 3",
   "language": "python",
   "name": "python3"
  },
  "language_info": {
   "codemirror_mode": {
    "name": "ipython",
    "version": 2
   },
   "file_extension": ".py",
   "mimetype": "text/x-python",
   "name": "python",
   "nbconvert_exporter": "python",
   "pygments_lexer": "ipython2",
   "version": "2.7.6"
  }
 },
 "nbformat": 4,
 "nbformat_minor": 5
}
